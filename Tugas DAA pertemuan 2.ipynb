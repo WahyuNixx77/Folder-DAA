{
  "nbformat": 4,
  "nbformat_minor": 0,
  "metadata": {
    "colab": {
      "provenance": []
    },
    "kernelspec": {
      "name": "python3",
      "display_name": "Python 3"
    },
    "language_info": {
      "name": "python"
    }
  },
  "cells": [
    {
      "cell_type": "code",
      "execution_count": null,
      "metadata": {
        "colab": {
          "base_uri": "https://localhost:8080/"
        },
        "id": "jeJb7dOPKgpB",
        "outputId": "b22d8de6-fb9f-4e48-efdb-ab66a9b76062"
      },
      "outputs": [
        {
          "output_type": "stream",
          "name": "stdout",
          "text": [
            "[1, 2, 3, 4, 5, 6]\n",
            "[5, 7, 9]\n"
          ]
        }
      ],
      "source": [
        "import numpy as np\n",
        "a = [1,2,3]\n",
        "b = [4,5,6]\n",
        "hasil = a + b\n",
        "print (hasil)\n",
        "def add (list_a,list_b):\n",
        "    result = []\n",
        "    for first, second in zip (list_a,list_b):\n",
        "      result.append(first+second)\n",
        "    return result\n",
        "print (add(a,b))"
      ]
    },
    {
      "cell_type": "markdown",
      "source": [],
      "metadata": {
        "id": "7-QAjpP2LVhA"
      }
    },
    {
      "cell_type": "code",
      "source": [
        "import numpy as np\n",
        "nilai_siswa = np.array([85,55,40,90])\n",
        "print (nilai_siswa[2])"
      ],
      "metadata": {
        "colab": {
          "base_uri": "https://localhost:8080/"
        },
        "id": "tvQ29eyeLWCg",
        "outputId": "3808f72b-9d15-4387-9c89-5050e46f69a0"
      },
      "execution_count": null,
      "outputs": [
        {
          "output_type": "stream",
          "name": "stdout",
          "text": [
            "40\n"
          ]
        }
      ]
    },
    {
      "cell_type": "code",
      "source": [
        "import numpy as np\n",
        "print (np.__version__)"
      ],
      "metadata": {
        "colab": {
          "base_uri": "https://localhost:8080/"
        },
        "id": "HgfXxTyrLYGL",
        "outputId": "8aca77e1-81ee-4fb0-b5ea-56586796571b"
      },
      "execution_count": null,
      "outputs": [
        {
          "output_type": "stream",
          "name": "stdout",
          "text": [
            "1.23.5\n"
          ]
        }
      ]
    },
    {
      "cell_type": "code",
      "source": [
        "print(\"hello world!\")\n",
        "print(\"Nama saya Wahyu\")\n",
        "print(\"Nim saya 2022071021\")\n",
        "if 5>2:\n",
        "  print(\"Ngidol adalah bagian hidupku!\")"
      ],
      "metadata": {
        "colab": {
          "base_uri": "https://localhost:8080/"
        },
        "id": "kGFX15pGLcp-",
        "outputId": "d97552cb-039f-4b46-ef64-f7097e16f47b"
      },
      "execution_count": null,
      "outputs": [
        {
          "output_type": "stream",
          "name": "stdout",
          "text": [
            "hello world!\n",
            "Nama saya Wahyu\n",
            "Nim saya 2022071021\n",
            "Ngidol adalah bagian hidupku!\n"
          ]
        }
      ]
    },
    {
      "cell_type": "code",
      "source": [
        "x = 5\n",
        "y = \"wahyu\"\n",
        "print (x)\n",
        "print (y)"
      ],
      "metadata": {
        "colab": {
          "base_uri": "https://localhost:8080/"
        },
        "id": "lWDuIj3qMMGR",
        "outputId": "11516aca-3d0a-4d1e-9f9b-1285daa06996"
      },
      "execution_count": null,
      "outputs": [
        {
          "output_type": "stream",
          "name": "stdout",
          "text": [
            "5\n",
            "wahyu\n"
          ]
        }
      ]
    },
    {
      "cell_type": "code",
      "source": [
        "x = 4\n",
        "x = \"Wahyu\"\n",
        "print(x)"
      ],
      "metadata": {
        "colab": {
          "base_uri": "https://localhost:8080/"
        },
        "id": "Qb6TBl4ENDfD",
        "outputId": "e6b155dc-0dcb-4cc4-df3e-168cdb50f738"
      },
      "execution_count": null,
      "outputs": [
        {
          "output_type": "stream",
          "name": "stdout",
          "text": [
            "Wahyu\n"
          ]
        }
      ]
    },
    {
      "cell_type": "code",
      "source": [
        "def pertama(listku):\n",
        "  return listku[0]\n",
        "pertama([1,2,3])\n",
        "pertama([1,2,3,4,5,6,7,8,9])"
      ],
      "metadata": {
        "colab": {
          "base_uri": "https://localhost:8080/"
        },
        "id": "Y7V6LzSJPObg",
        "outputId": "2e74599b-e9e3-4e33-a770-9493e645807e"
      },
      "execution_count": null,
      "outputs": [
        {
          "output_type": "execute_result",
          "data": {
            "text/plain": [
              "1"
            ]
          },
          "metadata": {},
          "execution_count": 12
        }
      ]
    },
    {
      "cell_type": "code",
      "source": [
        "def kedua(listku):\n",
        "    return listku[1]\n",
        "kedua([3,7,6,4,11])\n"
      ],
      "metadata": {
        "colab": {
          "base_uri": "https://localhost:8080/"
        },
        "id": "ouvCzWfePSLW",
        "outputId": "439b68e5-07a5-4ba8-d9e9-570bc298e363"
      },
      "execution_count": null,
      "outputs": [
        {
          "output_type": "execute_result",
          "data": {
            "text/plain": [
              "7"
            ]
          },
          "metadata": {},
          "execution_count": 13
        }
      ]
    },
    {
      "cell_type": "code",
      "source": [
        "def terakhir(listku):\n",
        "  return listku[0-1]\n",
        "terakhir ([3,4,7,9])"
      ],
      "metadata": {
        "colab": {
          "base_uri": "https://localhost:8080/"
        },
        "id": "rsLfJzdVSYlr",
        "outputId": "87adf2c5-437d-41ae-e636-65ccaff19af2"
      },
      "execution_count": null,
      "outputs": [
        {
          "output_type": "execute_result",
          "data": {
            "text/plain": [
              "9"
            ]
          },
          "metadata": {},
          "execution_count": 14
        }
      ]
    },
    {
      "cell_type": "code",
      "source": [
        "def terakhir(listku):\n",
        "  return listku[len(listku)-1]\n",
        "terakhir([3,4,7,9])"
      ],
      "metadata": {
        "colab": {
          "base_uri": "https://localhost:8080/"
        },
        "id": "xaDp7J4AScVd",
        "outputId": "3ab2689d-ca8f-49ba-cc0a-1a521b8de340"
      },
      "execution_count": null,
      "outputs": [
        {
          "output_type": "execute_result",
          "data": {
            "text/plain": [
              "9"
            ]
          },
          "metadata": {},
          "execution_count": 15
        }
      ]
    },
    {
      "cell_type": "code",
      "source": [
        "def jumtol(listku):\n",
        "  sum=0\n",
        "  for item in listku:\n",
        "    sum = sum+item\n",
        "  return sum\n",
        "\n",
        "jumtol ([1,2,3,4])"
      ],
      "metadata": {
        "colab": {
          "base_uri": "https://localhost:8080/"
        },
        "id": "bT5tYPiVSd6y",
        "outputId": "70186e90-192c-4f92-be6c-f86bd400b2ec"
      },
      "execution_count": null,
      "outputs": [
        {
          "output_type": "execute_result",
          "data": {
            "text/plain": [
              "10"
            ]
          },
          "metadata": {},
          "execution_count": 16
        }
      ]
    },
    {
      "cell_type": "code",
      "source": [
        "def kaltol(listku):\n",
        "  sum=1\n",
        "  for item in listku:\n",
        "    sum = sum*item\n",
        "  return sum\n",
        "\n",
        "kaltol ([1,2,3,4])"
      ],
      "metadata": {
        "colab": {
          "base_uri": "https://localhost:8080/"
        },
        "id": "n0WJMT08Sjn2",
        "outputId": "dbb6e414-f65c-44f6-ae71-bd39d0e5ceb5"
      },
      "execution_count": null,
      "outputs": [
        {
          "output_type": "execute_result",
          "data": {
            "text/plain": [
              "24"
            ]
          },
          "metadata": {},
          "execution_count": 17
        }
      ]
    },
    {
      "cell_type": "code",
      "source": [
        "def bagtol(listku):\n",
        "  sum=1\n",
        "  for item in listku:\n",
        "    sum = sum/item\n",
        "  return sum\n",
        "\n",
        "kaltol ([1,2,3,4])"
      ],
      "metadata": {
        "colab": {
          "base_uri": "https://localhost:8080/"
        },
        "id": "HLzUFfrOSpFJ",
        "outputId": "9bdcc12e-124c-4206-f738-b030fe21cc35"
      },
      "execution_count": null,
      "outputs": [
        {
          "output_type": "execute_result",
          "data": {
            "text/plain": [
              "24"
            ]
          },
          "metadata": {},
          "execution_count": 18
        }
      ]
    },
    {
      "cell_type": "code",
      "source": [
        "def jumtol(listku):\n",
        "  sum = 0\n",
        "  for row in listku:\n",
        "    for item in row:\n",
        "      sum += item\n",
        "  return sum\n",
        "jumtol([[1,2,5],[3,4,7]])"
      ],
      "metadata": {
        "colab": {
          "base_uri": "https://localhost:8080/"
        },
        "id": "zVd5S5BEStMy",
        "outputId": "5cf4ccb6-5d8e-4e47-a1f9-87de69eeee0b"
      },
      "execution_count": null,
      "outputs": [
        {
          "output_type": "execute_result",
          "data": {
            "text/plain": [
              "22"
            ]
          },
          "metadata": {},
          "execution_count": 19
        }
      ]
    },
    {
      "cell_type": "code",
      "source": [
        "def bagtol(listku):\n",
        "  sum = 1\n",
        "  for row in listku:\n",
        "    for item in row:\n",
        "      sum = sum/item\n",
        "  return sum\n",
        "bagtol([[1,2,5],[3,4,7]])"
      ],
      "metadata": {
        "colab": {
          "base_uri": "https://localhost:8080/"
        },
        "id": "8RnS8JAOSyp8",
        "outputId": "496aed49-ee90-40c4-864a-1a665341ae9b"
      },
      "execution_count": null,
      "outputs": [
        {
          "output_type": "execute_result",
          "data": {
            "text/plain": [
              "0.0011904761904761904"
            ]
          },
          "metadata": {},
          "execution_count": 20
        }
      ]
    },
    {
      "cell_type": "code",
      "source": [
        "def kaltol(listku):\n",
        "  sum= 1\n",
        "  for row in listku:\n",
        "    for item in row:\n",
        "      sum= sum*item\n",
        "  return sum\n",
        "kaltol([[1,2,5],[3,4,7]])"
      ],
      "metadata": {
        "colab": {
          "base_uri": "https://localhost:8080/"
        },
        "id": "5Tv2Ef-ZS3wE",
        "outputId": "589f9752-646b-42e3-e851-7e7edb54b546"
      },
      "execution_count": null,
      "outputs": [
        {
          "output_type": "execute_result",
          "data": {
            "text/plain": [
              "840"
            ]
          },
          "metadata": {},
          "execution_count": 21
        }
      ]
    }
  ]
}